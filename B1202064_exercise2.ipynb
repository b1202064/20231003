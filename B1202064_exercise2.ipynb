{
  "nbformat": 4,
  "nbformat_minor": 0,
  "metadata": {
    "colab": {
      "provenance": []
    },
    "kernelspec": {
      "name": "python3",
      "display_name": "Python 3"
    },
    "language_info": {
      "name": "python"
    }
  },
  "cells": [
    {
      "cell_type": "code",
      "execution_count": null,
      "metadata": {
        "colab": {
          "base_uri": "https://localhost:8080/"
        },
        "id": "pr8WexBZd7_C",
        "outputId": "0117fec2-7536-4006-bf00-d076c270091b"
      },
      "outputs": [
        {
          "output_type": "stream",
          "name": "stdout",
          "text": [
            "A\n",
            "['K', 'H', 'U']\n"
          ]
        }
      ],
      "source": [
        "a='C,B,A'\n",
        "b=['F','G','H']\n",
        "c=a.split(',')+b\n",
        "c[0]='K'\n",
        "print(c.pop(2))\n",
        "del c[1:4]\n",
        "c.append('U')\n",
        "print(c)"
      ]
    },
    {
      "cell_type": "code",
      "source": [
        "a=float(input(\"請輸入身高(公尺)\"))\n",
        "b=float(input(\"請輸入體重(公斤)\"))\n",
        "b/=a\n",
        "b/=a\n",
        "print(\"BMI:\",b)\n",
        "if (b<18.5):\n",
        "  print(\"體位:過輕\")\n",
        "elif (b<24):\n",
        "  print(\"體位:適中\")\n",
        "elif (b<27):\n",
        "  print(\"體位:過重\")\n",
        "else:\n",
        "  print(\"體位:肥胖\")\n",
        "\n"
      ],
      "metadata": {
        "colab": {
          "base_uri": "https://localhost:8080/"
        },
        "id": "7cXFp1NVmw70",
        "outputId": "994d7f1d-26c6-4384-a2c4-0cbeeec128e7"
      },
      "execution_count": null,
      "outputs": [
        {
          "output_type": "stream",
          "name": "stdout",
          "text": [
            "請輸入身高(公尺)1.6\n",
            "請輸入體重(公斤)50\n",
            "BMI: 19.53125\n",
            "體位:適中\n"
          ]
        }
      ]
    }
  ]
}