{
  "nbformat": 4,
  "nbformat_minor": 0,
  "metadata": {
    "colab": {
      "provenance": []
    },
    "kernelspec": {
      "name": "python3",
      "display_name": "Python 3"
    },
    "language_info": {
      "name": "python"
    }
  },
  "cells": [
    {
      "cell_type": "code",
      "execution_count": 7,
      "metadata": {
        "colab": {
          "base_uri": "https://localhost:8080/"
        },
        "id": "Byb8MwZ0byCf",
        "outputId": "402568d5-0c32-4c59-872d-5e74a06f0835"
      },
      "outputs": [
        {
          "output_type": "stream",
          "name": "stdout",
          "text": [
            "請輸入成績100 90 80 70 60\n",
            "80.0\n"
          ]
        }
      ],
      "source": [
        "a=input(\"請輸入成績\")\n",
        "a=a.split(' ')\n",
        "a=list(map(int,a))\n",
        "a.remove(max(a))\n",
        "a.remove(min(a))\n",
        "print(sum(a)/len(a))"
      ]
    },
    {
      "cell_type": "code",
      "source": [
        "a=int(input(\"請輸入第一個數字\"))\n",
        "b=int(input(\"請輸入第二個數字\"))\n",
        "p=str(input(\"請輸入一個運算符號\"))\n",
        "if p==\"+\":\n",
        "  print(a+b)\n",
        "if p==\"-\":\n",
        "  print(a-b)\n",
        "if p==\"*\":\n",
        "  print(a*b)\n",
        "if p==\"/\":\n",
        "  print(a/b)"
      ],
      "metadata": {
        "colab": {
          "base_uri": "https://localhost:8080/"
        },
        "id": "or7jNqFNd_Nd",
        "outputId": "208aad8f-b805-4939-d643-3963a80ee7e3"
      },
      "execution_count": 18,
      "outputs": [
        {
          "output_type": "stream",
          "name": "stdout",
          "text": [
            "請輸入第一個數字5\n",
            "請輸入第二個數字7\n",
            "請輸入一個運算符號*\n",
            "35\n"
          ]
        }
      ]
    },
    {
      "cell_type": "code",
      "source": [
        "a=int(input(\"請輸入年分\"))\n",
        "if a > 1582:\n",
        "  if a%400==0:\n",
        "    print(\"是閏年\")\n",
        "  elif a%4==0 and a%100!=0:\n",
        "    print(\"是閏年\")\n",
        "  else:\n",
        "    print(\"是平年\")\n",
        "elif a%4==0:\n",
        "  print(\"是閏年\")\n",
        "else:\n",
        "  print(\"是平年\")"
      ],
      "metadata": {
        "colab": {
          "base_uri": "https://localhost:8080/"
        },
        "id": "sPTiYwcVh6vH",
        "outputId": "bba4ebe2-19bc-4d26-eafd-abf554dc695a"
      },
      "execution_count": 26,
      "outputs": [
        {
          "output_type": "stream",
          "name": "stdout",
          "text": [
            "請輸入年分2000\n",
            "是閏年\n"
          ]
        }
      ]
    }
  ]
}